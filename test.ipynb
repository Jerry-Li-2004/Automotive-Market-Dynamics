{
 "cells": [
  {
   "cell_type": "code",
   "execution_count": 59,
   "metadata": {},
   "outputs": [
    {
     "data": {
      "text/plain": [
       "{'A1': [202383, 13907.777777777777],\n",
       " 'A2': [9414, 12995.666666666666],\n",
       " 'A3': [425659, 16529.82608695652],\n",
       " 'A4': [303344, 20412.904761904763],\n",
       " 'A5': [118713, 26090.0],\n",
       " 'A6': [144504, 25614.428571428572],\n",
       " 'A7': [16757, 42806.11111111111],\n",
       " 'A8': [12108, 48167.28571428572],\n",
       " 'ALLROAD': [1852, 0],\n",
       " 'E-TRON': [6887, 0],\n",
       " 'Q2': [56850, 20598.333333333332],\n",
       " 'Q3': [118920, 24704.375],\n",
       " 'Q5': [92065, 29624.545454545456],\n",
       " 'Q7': [47373, 41353.769230769234],\n",
       " 'Q8': [3380, 63745.0],\n",
       " 'QUATTRO': [531, 0],\n",
       " 'R8': [3423, 91007.08333333333],\n",
       " 'RIO': [1693, 0],\n",
       " 'RS3': [4875, 0],\n",
       " 'RS4': [5242, 0],\n",
       " 'RS5': [1443, 0],\n",
       " 'RS6': [4298, 0],\n",
       " 'RS7': [569, 0],\n",
       " 'RSQ3': [1696, 0],\n",
       " 'S1': [2868, 0],\n",
       " 'S3': [28669, 0],\n",
       " 'S4': [9301, 0],\n",
       " 'S5': [10728, 0],\n",
       " 'S6': [1320, 0],\n",
       " 'S7': [532, 0],\n",
       " 'S8': [1003, 0],\n",
       " 'SQ2': [1247, 0],\n",
       " 'SQ5': [11624, 0],\n",
       " 'SQ7': [2802, 0],\n",
       " 'TT': [85759, 23886.15],\n",
       " 'TTRS': [956, 0],\n",
       " 'TTS': [27721, 0]}"
      ]
     },
     "execution_count": 59,
     "metadata": {},
     "output_type": "execute_result"
    }
   ],
   "source": [
    "import pandas\n",
    "import numpy as np\n",
    "price_df = pandas.read_csv(\"dataset/Price_table.csv\")\n",
    "sales_df = pandas.read_csv(\"dataset/Sales_table.csv\")\n",
    "trim_df = pandas.read_csv(\"dataset/Trim_table.csv\")\n",
    "\n",
    "car_spec = price_df.loc[price_df['Maker'] == 'Audi', [\"Genmodel\", \"Entry_price\"]]\n",
    "car_spec = car_spec[car_spec['Entry_price'] != 0]\n",
    "price_average = car_spec.groupby('Genmodel')['Entry_price'].mean()\n",
    "price_average = price_average.to_dict()\n",
    "# print(price_average)\n",
    "data = {}\n",
    "car_sales = sales_df.loc[sales_df['Maker'] == 'AUDI']\n",
    "car_gen_model_names = car_sales['Genmodel'].drop_duplicates().to_list()\n",
    "for genmodel in car_gen_model_names:\n",
    "    specific_genmodel_df = car_sales[car_sales['Genmodel'] == genmodel]\n",
    "    sales_columns = car_sales.columns[3:]\n",
    "    sales_total = specific_genmodel_df[sales_columns].sum(axis=1).values[0]\n",
    "    data[genmodel] = [0,0]\n",
    "    data[genmodel][0] = sales_total\n",
    "# at this stage we found the sales total (popularity) of each car gen model\n",
    "new_data = {key.split()[-1]: value for key, value in data.items()}\n",
    "# print(new_data)\n",
    "gen_model_names = list(new_data.keys())\n",
    "# print(gen_model_names)\n",
    "for genmodel in gen_model_names:\n",
    "    if genmodel in price_average.keys():\n",
    "        new_data[genmodel][1] = price_average[genmodel]\n",
    "new_data #index 0: sales (popularity), 1: price (average)"
   ]
  },
  {
   "cell_type": "code",
   "execution_count": 83,
   "metadata": {},
   "outputs": [
    {
     "data": {
      "text/plain": [
       "array([42914, 42273, 47659, 53773, 44328])"
      ]
     },
     "execution_count": 83,
     "metadata": {},
     "output_type": "execute_result"
    }
   ],
   "source": [
    "# VOLVO Sales from 2016 - 2020\n",
    "# X = sales_df[['Maker', \"2016\", \"2017\", \"2018\", \"2019\", \"2020\"]].values\n",
    "volvo_sales = sales_df.loc[sales_df['Maker'] ==\n",
    "                           'VOLVO', [\"2016\", \"2017\", \"2018\", \"2019\", \"2020\"]]\n",
    "# sales by car ID\n",
    "# volvo_sales_array = volvo_sales.values\n",
    "\n",
    "# total sales (each year)\n",
    "volvo_sales_sum = volvo_sales.sum(axis=0)\n",
    "\n",
    "# return an array (each year)\n",
    "volvo_sales_sum = volvo_sales.sum(axis=0).values\n",
    "\n",
    "volvo_sales_sum"
   ]
  },
  {
   "cell_type": "code",
   "execution_count": 84,
   "metadata": {},
   "outputs": [
    {
     "data": {
      "text/plain": [
       "array([472, 485, 488, 550, 468])"
      ]
     },
     "execution_count": 84,
     "metadata": {},
     "output_type": "execute_result"
    }
   ],
   "source": [
    "# Ferrari Sales from 2016 - 2020\n",
    "X = sales_df[['Maker', \"2016\", \"2017\", \"2018\", \"2019\", \"2020\"]].values\n",
    "ferrari_sales = sales_df.loc[sales_df['Maker'] ==\n",
    "                             'FERRARI', [\"2016\", \"2017\", \"2018\", \"2019\", \"2020\"]]\n",
    "# sales by car ID\n",
    "# volvo_sales_array = volvo_sales.values\n",
    "\n",
    "# total sales (each year)\n",
    "ferrari_sales_sum = ferrari_sales.sum(axis=0)\n",
    "\n",
    "# return an array (each year)\n",
    "ferrari_sales_sum = ferrari_sales.sum(axis=0).values\n",
    "\n",
    "np.array(ferrari_sales_sum)"
   ]
  },
  {
   "cell_type": "code",
   "execution_count": 85,
   "metadata": {},
   "outputs": [
    {
     "data": {
      "text/plain": [
       "array([89822, 91954, 95267, 99904, 90020])"
      ]
     },
     "execution_count": 85,
     "metadata": {},
     "output_type": "execute_result"
    }
   ],
   "source": [
    "# Toyota Sales from 2016 - 2020\n",
    "X = sales_df[['Maker', \"2016\", \"2017\", \"2018\", \"2019\", \"2020\"]].values\n",
    "toyota_sales = sales_df.loc[sales_df['Maker'] ==\n",
    "                            'TOYOTA', [\"2016\", \"2017\", \"2018\", \"2019\", \"2020\"]]\n",
    "# sales by car ID\n",
    "# volvo_sales_array = volvo_sales.values\n",
    "\n",
    "# total sales (each year)\n",
    "toyota_sales_sum = toyota_sales.sum(axis=0)\n",
    "\n",
    "# return an array (each year)\n",
    "toyota_sales_sum = toyota_sales.sum(axis=0).values\n",
    "\n",
    "toyota_sales_sum"
   ]
  },
  {
   "cell_type": "code",
   "execution_count": 86,
   "metadata": {},
   "outputs": [],
   "source": [
    "import pandas as pd\n",
    "\n",
    "years = [\"2001\", \"2002\", \"2003\", \"2004\", \"2005\", \"2006\", \"2007\", \"2008\", \"2009\", \"2010\",\n",
    "         \"2011\", \"2012\", \"2013\", \"2014\", \"2015\", \"2016\", \"2017\", \"2018\", \"2019\", \"2020\"]\n",
    "\n",
    "sales = {}\n",
    "\n",
    "# add all existing brand to 'Brand' category\n",
    "sales['Brand'] = sales_df['Maker'].drop_duplicates().to_list()\n",
    "\n",
    "for i in range(len(years)):\n",
    "    sales[years[i]] = sales_df.groupby(\n",
    "        'Maker')[years[i]].sum().to_list()  # 2019 data by maker\n",
    "\n",
    "total_brand_sum = len(sales['Brand'])"
   ]
  },
  {
   "cell_type": "code",
   "execution_count": 133,
   "metadata": {},
   "outputs": [
    {
     "name": "stdout",
     "output_type": "stream",
     "text": [
      "[ 28528  52391  82486 108559 134923 174725 217008 225189 256458 237525\n",
      " 233066 251763 283204 300241 311575 296259 260372 238331 225680 147165]\n"
     ]
    }
   ],
   "source": [
    "data = {'Total_Sales': []}\n",
    "\n",
    "sales_df = pd.read_csv(\"dataset/Sales_table.csv\")\n",
    "sales_data_df = sales_df.drop(columns=['Maker', 'Genmodel', 'Genmodel_ID'])\n",
    "\n",
    "    # all car brand name\n",
    "car_brand_names = sales_df['Maker'].drop_duplicates().to_list()\n",
    "for brand in car_brand_names:\n",
    "    data[brand] = sales_data_df[sales_df['Maker']\n",
    "                                    == brand].sum(axis=0).values[::-1]\n",
    "    data['Total_Sales'].append((brand, sum(data[brand])))\n",
    "\n",
    "print(data['FORD'])\n",
    "data['Total_Sales'] = sorted(data['Total_Sales'], key=lambda n: n[1])[::-1][0:20]\n",
    "data[\"Top_20_Brand\"] = [t[0] for t in data['Total_Sales']]"
   ]
  },
  {
   "cell_type": "code",
   "execution_count": 75,
   "metadata": {},
   "outputs": [
    {
     "data": {
      "text/plain": [
       "['Maker',\n",
       " 'Genmodel',\n",
       " 'Genmodel_ID',\n",
       " '2026',\n",
       " '2025',\n",
       " '2024',\n",
       " '2023',\n",
       " '2022',\n",
       " '2021',\n",
       " '2020',\n",
       " '2019',\n",
       " '2018',\n",
       " '2017',\n",
       " '2016',\n",
       " '2015',\n",
       " '2014',\n",
       " '2013',\n",
       " '2012',\n",
       " '2011',\n",
       " '2010',\n",
       " '2009',\n",
       " '2008',\n",
       " '2007',\n",
       " '2006',\n",
       " '2005',\n",
       " '2004',\n",
       " '2003',\n",
       " '2002',\n",
       " '2001']"
      ]
     },
     "execution_count": 75,
     "metadata": {},
     "output_type": "execute_result"
    }
   ],
   "source": [
    "import pandas\n",
    "import numpy as np\n",
    "sales_forecast_df = pandas.read_csv(\"prediction_analysis/Projected_Sales_data.csv\")\n",
    "\n",
    "columns = list(sales_forecast_df.columns)\n",
    "df_segment0 = columns[0:3]\n",
    "df_segment1 = columns[3:23]\n",
    "df_segment2 = columns[23:29]\n",
    "sales_df = df_segment0 + df_segment2[::-1] + df_segment1\n",
    "sales_df"
   ]
  }
 ],
 "metadata": {
  "kernelspec": {
   "display_name": "base",
   "language": "python",
   "name": "python3"
  },
  "language_info": {
   "codemirror_mode": {
    "name": "ipython",
    "version": 3
   },
   "file_extension": ".py",
   "mimetype": "text/x-python",
   "name": "python",
   "nbconvert_exporter": "python",
   "pygments_lexer": "ipython3",
   "version": "3.12.4"
  }
 },
 "nbformat": 4,
 "nbformat_minor": 2
}
