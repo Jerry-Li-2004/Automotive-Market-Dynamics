{
 "cells": [
  {
   "cell_type": "code",
   "execution_count": 4,
   "metadata": {},
   "outputs": [],
   "source": [
    "import pandas\n",
    "\n",
    "price_df = pandas.read_csv(\"dataset/Price_table.csv\")\n",
    "sales_df = pandas.read_csv(\"dataset/Sales_table.csv\")\n",
    "trim_df = pandas.read_csv(\"dataset/Trim_table.csv\")\n",
    "image_df = pandas.read_csv(\"dataset/Image_table.csv\")"
   ]
  }
 ],
 "metadata": {
  "kernelspec": {
   "display_name": "base",
   "language": "python",
   "name": "python3"
  },
  "language_info": {
   "codemirror_mode": {
    "name": "ipython",
    "version": 3
   },
   "file_extension": ".py",
   "mimetype": "text/x-python",
   "name": "python",
   "nbconvert_exporter": "python",
   "pygments_lexer": "ipython3",
   "version": "3.12.4"
  }
 },
 "nbformat": 4,
 "nbformat_minor": 2
}
