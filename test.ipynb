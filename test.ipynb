{
 "cells": [
  {
   "cell_type": "code",
   "execution_count": 22,
   "metadata": {},
   "outputs": [],
   "source": [
    "import pandas\n",
    "import numpy as np\n",
    "price_df = pandas.read_csv(\"dataset/Price_table.csv\")\n",
    "sales_df = pandas.read_csv(\"dataset/Sales_table.csv\")\n",
    "trim_df = pandas.read_csv(\"dataset/Trim_table.csv\")"
   ]
  },
  {
   "cell_type": "code",
   "execution_count": 21,
   "metadata": {},
   "outputs": [
    {
     "data": {
      "text/plain": [
       "array([42914, 42273, 47659, 53773, 44328])"
      ]
     },
     "execution_count": 21,
     "metadata": {},
     "output_type": "execute_result"
    }
   ],
   "source": [
    "# VOLVO Sales from 2016 - 2020\n",
    "# X = sales_df[['Maker', \"2016\", \"2017\", \"2018\", \"2019\", \"2020\"]].values\n",
    "volvo_sales = sales_df.loc[sales_df['Maker'] ==\n",
    "                           'VOLVO', [\"2016\", \"2017\", \"2018\", \"2019\", \"2020\"]]\n",
    "# sales by car ID\n",
    "# volvo_sales_array = volvo_sales.values\n",
    "\n",
    "# total sales (each year)\n",
    "volvo_sales_sum = volvo_sales.sum(axis=0)\n",
    "\n",
    "# return an array (each year)\n",
    "volvo_sales_sum = volvo_sales.sum(axis=0).values\n",
    "\n",
    "volvo_sales_sum"
   ]
  },
  {
   "cell_type": "code",
   "execution_count": 24,
   "metadata": {},
   "outputs": [
    {
     "data": {
      "text/plain": [
       "array([472, 485, 488, 550, 468])"
      ]
     },
     "execution_count": 24,
     "metadata": {},
     "output_type": "execute_result"
    }
   ],
   "source": [
    "# Ferrari Sales from 2016 - 2020\n",
    "X = sales_df[['Maker', \"2016\", \"2017\", \"2018\", \"2019\", \"2020\"]].values\n",
    "ferrari_sales = sales_df.loc[sales_df['Maker'] ==\n",
    "                           'FERRARI', [\"2016\", \"2017\", \"2018\", \"2019\", \"2020\"]]\n",
    "# sales by car ID\n",
    "# volvo_sales_array = volvo_sales.values\n",
    "\n",
    "# total sales (each year)\n",
    "ferrari_sales_sum = ferrari_sales.sum(axis=0)\n",
    "\n",
    "# return an array (each year)\n",
    "ferrari_sales_sum = ferrari_sales.sum(axis=0).values\n",
    "\n",
    "np.array(ferrari_sales_sum)"
   ]
  },
  {
   "cell_type": "code",
   "execution_count": 18,
   "metadata": {},
   "outputs": [
    {
     "data": {
      "text/plain": [
       "array([89822, 91954, 95267, 99904, 90020])"
      ]
     },
     "execution_count": 18,
     "metadata": {},
     "output_type": "execute_result"
    }
   ],
   "source": [
    "# Toyota Sales from 2016 - 2020\n",
    "X = sales_df[['Maker', \"2016\", \"2017\", \"2018\", \"2019\", \"2020\"]].values\n",
    "toyota_sales = sales_df.loc[sales_df['Maker'] ==\n",
    "                             'TOYOTA', [\"2016\", \"2017\", \"2018\", \"2019\", \"2020\"]]\n",
    "# sales by car ID\n",
    "# volvo_sales_array = volvo_sales.values\n",
    "\n",
    "# total sales (each year)\n",
    "toyota_sales_sum = toyota_sales.sum(axis=0)\n",
    "\n",
    "# return an array (each year)\n",
    "toyota_sales_sum = toyota_sales.sum(axis=0).values\n",
    "\n",
    "toyota_sales_sum"
   ]
  }
 ],
 "metadata": {
  "kernelspec": {
   "display_name": "base",
   "language": "python",
   "name": "python3"
  },
  "language_info": {
   "codemirror_mode": {
    "name": "ipython",
    "version": 3
   },
   "file_extension": ".py",
   "mimetype": "text/x-python",
   "name": "python",
   "nbconvert_exporter": "python",
   "pygments_lexer": "ipython3",
   "version": "3.12.4"
  }
 },
 "nbformat": 4,
 "nbformat_minor": 2
}
