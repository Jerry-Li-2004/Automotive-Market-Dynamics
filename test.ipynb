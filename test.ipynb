{
 "cells": [
  {
   "cell_type": "code",
   "execution_count": 82,
   "metadata": {},
   "outputs": [],
   "source": [
    "import pandas\n",
    "import numpy as np\n",
    "price_df = pandas.read_csv(\"dataset/Price_table.csv\")\n",
    "sales_df = pandas.read_csv(\"dataset/Sales_table.csv\")\n",
    "trim_df = pandas.read_csv(\"dataset/Trim_table.csv\")"
   ]
  },
  {
   "cell_type": "code",
   "execution_count": 83,
   "metadata": {},
   "outputs": [
    {
     "data": {
      "text/plain": [
       "array([42914, 42273, 47659, 53773, 44328])"
      ]
     },
     "execution_count": 83,
     "metadata": {},
     "output_type": "execute_result"
    }
   ],
   "source": [
    "# VOLVO Sales from 2016 - 2020\n",
    "# X = sales_df[['Maker', \"2016\", \"2017\", \"2018\", \"2019\", \"2020\"]].values\n",
    "volvo_sales = sales_df.loc[sales_df['Maker'] ==\n",
    "                           'VOLVO', [\"2016\", \"2017\", \"2018\", \"2019\", \"2020\"]]\n",
    "# sales by car ID\n",
    "# volvo_sales_array = volvo_sales.values\n",
    "\n",
    "# total sales (each year)\n",
    "volvo_sales_sum = volvo_sales.sum(axis=0)\n",
    "\n",
    "# return an array (each year)\n",
    "volvo_sales_sum = volvo_sales.sum(axis=0).values\n",
    "\n",
    "volvo_sales_sum"
   ]
  },
  {
   "cell_type": "code",
   "execution_count": 84,
   "metadata": {},
   "outputs": [
    {
     "data": {
      "text/plain": [
       "array([472, 485, 488, 550, 468])"
      ]
     },
     "execution_count": 84,
     "metadata": {},
     "output_type": "execute_result"
    }
   ],
   "source": [
    "# Ferrari Sales from 2016 - 2020\n",
    "X = sales_df[['Maker', \"2016\", \"2017\", \"2018\", \"2019\", \"2020\"]].values\n",
    "ferrari_sales = sales_df.loc[sales_df['Maker'] ==\n",
    "                             'FERRARI', [\"2016\", \"2017\", \"2018\", \"2019\", \"2020\"]]\n",
    "# sales by car ID\n",
    "# volvo_sales_array = volvo_sales.values\n",
    "\n",
    "# total sales (each year)\n",
    "ferrari_sales_sum = ferrari_sales.sum(axis=0)\n",
    "\n",
    "# return an array (each year)\n",
    "ferrari_sales_sum = ferrari_sales.sum(axis=0).values\n",
    "\n",
    "np.array(ferrari_sales_sum)"
   ]
  },
  {
   "cell_type": "code",
   "execution_count": 85,
   "metadata": {},
   "outputs": [
    {
     "data": {
      "text/plain": [
       "array([89822, 91954, 95267, 99904, 90020])"
      ]
     },
     "execution_count": 85,
     "metadata": {},
     "output_type": "execute_result"
    }
   ],
   "source": [
    "# Toyota Sales from 2016 - 2020\n",
    "X = sales_df[['Maker', \"2016\", \"2017\", \"2018\", \"2019\", \"2020\"]].values\n",
    "toyota_sales = sales_df.loc[sales_df['Maker'] ==\n",
    "                            'TOYOTA', [\"2016\", \"2017\", \"2018\", \"2019\", \"2020\"]]\n",
    "# sales by car ID\n",
    "# volvo_sales_array = volvo_sales.values\n",
    "\n",
    "# total sales (each year)\n",
    "toyota_sales_sum = toyota_sales.sum(axis=0)\n",
    "\n",
    "# return an array (each year)\n",
    "toyota_sales_sum = toyota_sales.sum(axis=0).values\n",
    "\n",
    "toyota_sales_sum"
   ]
  },
  {
   "cell_type": "code",
   "execution_count": 86,
   "metadata": {},
   "outputs": [],
   "source": [
    "import pandas as pd\n",
    "\n",
    "years = [\"2001\", \"2002\", \"2003\", \"2004\", \"2005\", \"2006\", \"2007\", \"2008\", \"2009\", \"2010\",\n",
    "         \"2011\", \"2012\", \"2013\", \"2014\", \"2015\", \"2016\", \"2017\", \"2018\", \"2019\", \"2020\"]\n",
    "\n",
    "sales = {}\n",
    "\n",
    "# add all existing brand to 'Brand' category\n",
    "sales['Brand'] = sales_df['Maker'].drop_duplicates().to_list()\n",
    "\n",
    "for i in range(len(years)):\n",
    "    sales[years[i]] = sales_df.groupby(\n",
    "        'Maker')[years[i]].sum().to_list()  # 2019 data by maker\n",
    "\n",
    "total_brand_sum = len(sales['Brand'])"
   ]
  },
  {
   "cell_type": "code",
   "execution_count": 133,
   "metadata": {},
   "outputs": [
    {
     "name": "stdout",
     "output_type": "stream",
     "text": [
      "[ 28528  52391  82486 108559 134923 174725 217008 225189 256458 237525\n",
      " 233066 251763 283204 300241 311575 296259 260372 238331 225680 147165]\n"
     ]
    }
   ],
   "source": [
    "data = {'Total_Sales': []}\n",
    "\n",
    "sales_df = pd.read_csv(\"dataset/Sales_table.csv\")\n",
    "sales_data_df = sales_df.drop(columns=['Maker', 'Genmodel', 'Genmodel_ID'])\n",
    "\n",
    "    # all car brand name\n",
    "car_brand_names = sales_df['Maker'].drop_duplicates().to_list()\n",
    "for brand in car_brand_names:\n",
    "    data[brand] = sales_data_df[sales_df['Maker']\n",
    "                                    == brand].sum(axis=0).values[::-1]\n",
    "    data['Total_Sales'].append((brand, sum(data[brand])))\n",
    "\n",
    "print(data['FORD'])\n",
    "data['Total_Sales'] = sorted(data['Total_Sales'], key=lambda n: n[1])[::-1][0:20]\n",
    "data[\"Top_20_Brand\"] = [t[0] for t in data['Total_Sales']]"
   ]
  }
 ],
 "metadata": {
  "kernelspec": {
   "display_name": "base",
   "language": "python",
   "name": "python3"
  },
  "language_info": {
   "codemirror_mode": {
    "name": "ipython",
    "version": 3
   },
   "file_extension": ".py",
   "mimetype": "text/x-python",
   "name": "python",
   "nbconvert_exporter": "python",
   "pygments_lexer": "ipython3",
   "version": "3.12.4"
  }
 },
 "nbformat": 4,
 "nbformat_minor": 2
}
